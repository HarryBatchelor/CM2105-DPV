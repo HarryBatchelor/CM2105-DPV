{
 "cells": [
  {
   "cell_type": "code",
   "execution_count": 1,
   "metadata": {},
   "outputs": [
    {
     "name": "stdout",
     "output_type": "stream",
     "text": [
      "Populating the interactive namespace from numpy and matplotlib\n"
     ]
    },
    {
     "data": {
      "text/html": [
       "<div>\n",
       "<style scoped>\n",
       "    .dataframe tbody tr th:only-of-type {\n",
       "        vertical-align: middle;\n",
       "    }\n",
       "\n",
       "    .dataframe tbody tr th {\n",
       "        vertical-align: top;\n",
       "    }\n",
       "\n",
       "    .dataframe thead th {\n",
       "        text-align: right;\n",
       "    }\n",
       "</style>\n",
       "<table border=\"1\" class=\"dataframe\">\n",
       "  <thead>\n",
       "    <tr style=\"text-align: right;\">\n",
       "      <th></th>\n",
       "      <th>Years of Potential Life Lost Rate</th>\n",
       "      <th>Teen Birth Rate</th>\n",
       "      <th>Violent Crime Rate</th>\n",
       "      <th>Percentage Smokers</th>\n",
       "    </tr>\n",
       "    <tr>\n",
       "      <th>County</th>\n",
       "      <th></th>\n",
       "      <th></th>\n",
       "      <th></th>\n",
       "      <th></th>\n",
       "    </tr>\n",
       "  </thead>\n",
       "  <tbody>\n",
       "    <tr>\n",
       "      <th>Alachua</th>\n",
       "      <td>6633</td>\n",
       "      <td>19</td>\n",
       "      <td>579</td>\n",
       "      <td>16</td>\n",
       "    </tr>\n",
       "    <tr>\n",
       "      <th>Baker</th>\n",
       "      <td>8270</td>\n",
       "      <td>58</td>\n",
       "      <td>360</td>\n",
       "      <td>19</td>\n",
       "    </tr>\n",
       "    <tr>\n",
       "      <th>Bay</th>\n",
       "      <td>9168</td>\n",
       "      <td>50</td>\n",
       "      <td>508</td>\n",
       "      <td>18</td>\n",
       "    </tr>\n",
       "    <tr>\n",
       "      <th>Bradford</th>\n",
       "      <td>10346</td>\n",
       "      <td>61</td>\n",
       "      <td>461</td>\n",
       "      <td>18</td>\n",
       "    </tr>\n",
       "    <tr>\n",
       "      <th>Brevard</th>\n",
       "      <td>7722</td>\n",
       "      <td>25</td>\n",
       "      <td>518</td>\n",
       "      <td>16</td>\n",
       "    </tr>\n",
       "    <tr>\n",
       "      <th>...</th>\n",
       "      <td>...</td>\n",
       "      <td>...</td>\n",
       "      <td>...</td>\n",
       "      <td>...</td>\n",
       "    </tr>\n",
       "    <tr>\n",
       "      <th>Taylor</th>\n",
       "      <td>7875</td>\n",
       "      <td>64</td>\n",
       "      <td>743</td>\n",
       "      <td>18</td>\n",
       "    </tr>\n",
       "    <tr>\n",
       "      <th>Volusia</th>\n",
       "      <td>8295</td>\n",
       "      <td>32</td>\n",
       "      <td>426</td>\n",
       "      <td>16</td>\n",
       "    </tr>\n",
       "    <tr>\n",
       "      <th>Wakulla</th>\n",
       "      <td>7548</td>\n",
       "      <td>31</td>\n",
       "      <td>272</td>\n",
       "      <td>17</td>\n",
       "    </tr>\n",
       "    <tr>\n",
       "      <th>Walton</th>\n",
       "      <td>7962</td>\n",
       "      <td>45</td>\n",
       "      <td>374</td>\n",
       "      <td>17</td>\n",
       "    </tr>\n",
       "    <tr>\n",
       "      <th>Washington</th>\n",
       "      <td>8390</td>\n",
       "      <td>54</td>\n",
       "      <td>236</td>\n",
       "      <td>19</td>\n",
       "    </tr>\n",
       "  </tbody>\n",
       "</table>\n",
       "<p>66 rows × 4 columns</p>\n",
       "</div>"
      ],
      "text/plain": [
       "            Years of Potential Life Lost Rate  Teen Birth Rate  \\\n",
       "County                                                           \n",
       "Alachua                                  6633               19   \n",
       "Baker                                    8270               58   \n",
       "Bay                                      9168               50   \n",
       "Bradford                                10346               61   \n",
       "Brevard                                  7722               25   \n",
       "...                                       ...              ...   \n",
       "Taylor                                   7875               64   \n",
       "Volusia                                  8295               32   \n",
       "Wakulla                                  7548               31   \n",
       "Walton                                   7962               45   \n",
       "Washington                               8390               54   \n",
       "\n",
       "            Violent Crime Rate  Percentage Smokers  \n",
       "County                                              \n",
       "Alachua                    579                  16  \n",
       "Baker                      360                  19  \n",
       "Bay                        508                  18  \n",
       "Bradford                   461                  18  \n",
       "Brevard                    518                  16  \n",
       "...                        ...                 ...  \n",
       "Taylor                     743                  18  \n",
       "Volusia                    426                  16  \n",
       "Wakulla                    272                  17  \n",
       "Walton                     374                  17  \n",
       "Washington                 236                  19  \n",
       "\n",
       "[66 rows x 4 columns]"
      ]
     },
     "execution_count": 1,
     "metadata": {},
     "output_type": "execute_result"
    }
   ],
   "source": [
    "# CELL1 – 1 mark\n",
    "\n",
    "\n",
    "################################################################################################################################\n",
    "#  libraries needed for the coursework\n",
    "%pylab inline\n",
    "import pandas as pd\n",
    "from pandas import Series, DataFrame\n",
    "from scipy import stats\n",
    "################################################################################################################################\n",
    "hdf = pd.read_table('2017Health.txt', index_col=['County'])\n",
    "hdf = hdf[['Years of Potential Life Lost Rate', 'Teen Birth Rate', 'Violent Crime Rate', 'Percentage Smokers']]\n",
    "hdf\n",
    "\n",
    "\n",
    "\n"
   ]
  },
  {
   "cell_type": "code",
   "execution_count": 2,
   "metadata": {},
   "outputs": [
    {
     "name": "stdout",
     "output_type": "stream",
     "text": [
      "Mean of smokers = 16.92\n",
      "Minimum of percentage smokers = 11\n",
      "Maximum of percentage smokers = 21\n",
      "Standard deviation of percentage smokers = 2.37\n",
      "95% confidence interval of percentage smokers = [16.35, 17.5]\n"
     ]
    }
   ],
   "source": [
    "# CELL2 – 5 marks\n",
    "psd = hdf['Percentage Smokers'].values\n",
    "\n",
    "PS = hdf['Percentage Smokers'].values\n",
    "PS_mean = mean(PS)\n",
    "PS_error = 1.96*std(PS)/sqrt(len(PS))\n",
    "\n",
    "print('Mean of smokers =', round(mean(psd),2))\n",
    "print('Minimum of percentage smokers =', round(min(psd),2))\n",
    "print('Maximum of percentage smokers =', round(max(psd),2))\n",
    "print('Standard deviation of percentage smokers =', round(std(psd),2))\n",
    "print('95% confidence interval of percentage smokers =', [round((PS_mean - PS_error),2), round((PS_mean + PS_error),2)])\n",
    "\n",
    "\n",
    "\n"
   ]
  },
  {
   "cell_type": "code",
   "execution_count": 3,
   "metadata": {},
   "outputs": [
    {
     "data": {
      "image/png": "[encoded data removed]",
      "text/plain": [
       "<Figure size 864x432 with 1 Axes>"
      ]
     },
     "metadata": {
      "needs_background": "light"
     },
     "output_type": "display_data"
    }
   ],
   "source": [
    "# CELL3 – 6 marks\n",
    "#define different regions\n",
    "smokers = hdf['Percentage Smokers']\n",
    "NF = [smokers['Duval'], smokers['Alachua'], smokers['Leon'], smokers['Flagler'], smokers['Marion']]\n",
    "CF = [smokers['Orange'], smokers['Polk'], smokers['Hillsborough'], smokers['Pinellas'], smokers['Brevard']]\n",
    "SF = [smokers['Miami-Dade'], smokers['Broward'], smokers['Lee'], smokers['Palm Beach'], smokers['Sarasota']]\n",
    "\n",
    "#calculate means\n",
    "NF_mean = round(mean(NF))\n",
    "CF_mean = round(mean(CF))\n",
    "SF_mean = round(mean(SF))\n",
    "\n",
    "#calculate errors\n",
    "NF_error = 1.96*std(NF)/sqrt(len(NF))\n",
    "CF_error = 1.96*std(CF)/sqrt(len(CF))\n",
    "SF_error = 1.96*std(SF)/sqrt(len(SF))\n",
    "\n",
    "#draw figure\n",
    "figure(figsize(12,6))\n",
    "N = 3\n",
    "ind = arange(N)\n",
    "width = 0.5\n",
    "bar(ind, [NF_mean, CF_mean, SF_mean], width, color='r', yerr=[NF_error, CF_error, SF_error] )\n",
    "ylabel('Percentage Smokers', fontsize=20)\n",
    "xtickloc = ind\n",
    "xticklabel = ['North Florida', 'Central Florida', 'South Florida']\n",
    "xticks(xtickloc, xticklabel, rotation='horizontal', fontsize=20)\n",
    "title('Percentage of smokers in different parts of Florida', fontsize=30)\n",
    "ylim([0, 20])\n",
    "show()\n",
    "\n"
   ]
  },
  {
   "cell_type": "code",
   "execution_count": 4,
   "metadata": {},
   "outputs": [
    {
     "name": "stdout",
     "output_type": "stream",
     "text": [
      "YPLL =  36.09 * Teen Birth Rate + 225.19 * Percentage Smokers + 2503.14\n"
     ]
    },
    {
     "name": "stderr",
     "output_type": "stream",
     "text": [
      "c:\\users\\hmbat\\.virtualenvs\\cm2105-_dpv-oekrzhju\\lib\\site-packages\\numpy\\core\\fromnumeric.py:2495: FutureWarning: Method .ptp is deprecated and will be removed in a future version. Use numpy.ptp instead.\n",
      "  return ptp(axis=axis, out=out, **kwargs)\n"
     ]
    }
   ],
   "source": [
    "# CELL4 – 2 marks\n",
    "import statsmodels.api as sm\n",
    "\n",
    "ypll = hdf[\"Years of Potential Life Lost Rate\"].values \n",
    "comb = hdf[[\"Teen Birth Rate\", \"Percentage Smokers\"]]\n",
    "comb = sm.add_constant(comb)\n",
    "results = sm.OLS(ypll, comb).fit()\n",
    "print(\"YPLL = \", round(results.params[1],2), \"* Teen Birth Rate +\", round(results.params[2],2), \"* Percentage Smokers +\", round(results.params[0],2))\n",
    "\n",
    "\n"
   ]
  },
  {
   "cell_type": "code",
   "execution_count": 5,
   "metadata": {},
   "outputs": [
    {
     "name": "stdout",
     "output_type": "stream",
     "text": [
      "Mean Absolute Error of Model A = 948.45\n",
      "Mean Absolute Error of Model B = 1219.42\n",
      "Model A normality test: True\n",
      "Model B normality test: False\n",
      "Differnece in Mean: 1.0 2\n",
      "Significance test: MannwhitneyuResult(statistic=1751.0, pvalue=0.05225048924803222)\n",
      "Statistical Significant Differennce Test: Are they signifacnt? False\n",
      "Model A has a smaller mean absolute error which is better, but, as seen in the mann whitneyu test, there is statisticly significant difference between the two models.\n"
     ]
    }
   ],
   "source": [
    "# CELL5 – 6 marks\n",
    "VCR = hdf['Violent Crime Rate']\n",
    "YPLLR = hdf['Years of Potential Life Lost Rate']\n",
    "Teen_Birth_Rate = hdf['Teen Birth Rate']\n",
    "Model_A = 60.6*Teen_Birth_Rate + 5297.6\n",
    "Model_B = 1.36*VCR + 7254.3\n",
    "\n",
    "Error_A = abs(YPLLR - Model_A)\n",
    "Error_B = abs(YPLLR - Model_B)\n",
    "print('Mean Absolute Error of Model A =',round(mean(abs(Error_A)),2))\n",
    "print('Mean Absolute Error of Model B =',round(mean(abs(Error_B)),2))\n",
    "print('Model A normality test:', stats.shapiro(Model_A)[1]>0.05)\n",
    "print('Model B normality test:', stats.shapiro(Model_B)[1]>0.05)\n",
    "print('Differnece in Mean:', round(mean(Model_A)-mean(Model_B)),2)\n",
    "print('Significance test:', stats.mannwhitneyu(Error_A,Error_B, alternative='two-sided'))\n",
    "print('Statistical Significant Differennce Test: Are they signifacnt?', stats.mannwhitneyu(Error_A, Error_B, alternative='two-sided')[1]<0.05)\n",
    "print('Model A has a smaller mean absolute error which is better, but, as seen in the mann whitneyu test, there is statisticly significant difference between the two models.')\n"
   ]
  },
  {
   "cell_type": "code",
   "execution_count": null,
   "metadata": {},
   "outputs": [],
   "source": []
  }
 ],
 "metadata": {
  "kernelspec": {
   "display_name": "Python 3",
   "language": "python",
   "name": "python3"
  },
  "language_info": {
   "codemirror_mode": {
    "name": "ipython",
    "version": 3
   },
   "file_extension": ".py",
   "mimetype": "text/x-python",
   "name": "python",
   "nbconvert_exporter": "python",
   "pygments_lexer": "ipython3",
   "version": "3.6.7"
  }
 },
 "nbformat": 4,
 "nbformat_minor": 1
}
